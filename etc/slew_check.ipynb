{
 "cells": [
  {
   "cell_type": "code",
   "execution_count": 1,
   "metadata": {},
   "outputs": [],
   "source": [
    "import numpy as np\n",
    "import pandas as pd\n",
    "import matplotlib.pylab as plt\n",
    "import sqlite3\n"
   ]
  },
  {
   "cell_type": "code",
   "execution_count": 30,
   "metadata": {},
   "outputs": [],
   "source": [
    "#conn = sqlite3.connect('az_1exp_pairsmix_10yrs.db')\n",
    "conn = sqlite3.connect('../baselines/baseline_1exp_pairsmix_10yrs.db')"
   ]
  },
  {
   "cell_type": "code",
   "execution_count": 31,
   "metadata": {},
   "outputs": [],
   "source": [
    "# Let's see if we can figure out why the slewtime is larger in this compared to the baseline\n",
    "q = 'select filter,note,slewtime from SummaryAllProps'\n",
    "df = pd.read_sql(q, conn)"
   ]
  },
  {
   "cell_type": "code",
   "execution_count": 32,
   "metadata": {},
   "outputs": [],
   "source": [
    "vals = df.values"
   ]
  },
  {
   "cell_type": "code",
   "execution_count": 33,
   "metadata": {},
   "outputs": [
    {
     "data": {
      "text/plain": [
       "array(['', 'DD:290', 'DD:COSMOS', 'DD:ECDFS', 'DD:ELAISS1', 'DD:XMM-LSS',\n",
       "       'DD:u,290', 'DD:u,COSMOS', 'DD:u,ECDFS', 'DD:u,ELAISS1',\n",
       "       'DD:u,XMM-LSS', 'blob, gr, a', 'blob, gr, b', 'blob, iz, a',\n",
       "       'blob, iz, b', 'blob, ri, a', 'blob, ri, b', 'blob, u', 'blob, y',\n",
       "       'blob, z'], dtype=object)"
      ]
     },
     "execution_count": 33,
     "metadata": {},
     "output_type": "execute_result"
    }
   ],
   "source": [
    "np.unique(vals[:,1])"
   ]
  },
  {
   "cell_type": "code",
   "execution_count": 34,
   "metadata": {},
   "outputs": [],
   "source": [
    "# I think it might be the transition between blobs that in increasing the mean\n",
    "# Let's check the mean slewtime for just b-parts of blobs\n",
    "is_b = []\n",
    "for i,note in enumerate(vals[:,1]):\n",
    "    if (len(note) > 0) & (vals[i,0] == vals[i-1,0]):\n",
    "        is_b.append(note[-1] == 'a')\n",
    "    else:\n",
    "        is_b.append(False)"
   ]
  },
  {
   "cell_type": "code",
   "execution_count": 36,
   "metadata": {},
   "outputs": [
    {
     "data": {
      "text/plain": [
       "(6.812635187711417, 8.021347118452907)"
      ]
     },
     "execution_count": 36,
     "metadata": {},
     "output_type": "execute_result"
    }
   ],
   "source": [
    "np.mean(vals[is_b,2]), np.mean(vals[np.where(vals[:,1] == ''), 2])"
   ]
  },
  {
   "cell_type": "code",
   "execution_count": 29,
   "metadata": {},
   "outputs": [
    {
     "data": {
      "text/plain": [
       "7.944387010783188"
      ]
     },
     "execution_count": 29,
     "metadata": {},
     "output_type": "execute_result"
    }
   ],
   "source": []
  },
  {
   "cell_type": "code",
   "execution_count": 37,
   "metadata": {},
   "outputs": [],
   "source": [
    "conns = [sqlite3.connect('az_1exp_pairsmix_10yrs.db'), sqlite3.connect('../baselines/baseline_1exp_pairsmix_10yrs.db')]"
   ]
  },
  {
   "cell_type": "code",
   "execution_count": 44,
   "metadata": {},
   "outputs": [
    {
     "name": "stdout",
     "output_type": "stream",
     "text": [
      "a-block mean slewtime, b-block mean slew, greedy mean slewtime\n",
      "7.944387010783188 6.380589813036348 7.972263000943505\n",
      "6.812635187711417 6.768513693859035 8.021347118452907\n"
     ]
    }
   ],
   "source": [
    "print('a-block mean slewtime, b-block mean slew, greedy mean slewtime')\n",
    "for conn in conns:\n",
    "    q = 'select filter,note,slewtime from SummaryAllProps'\n",
    "    df = pd.read_sql(q, conn)\n",
    "    vals = df.values\n",
    "    is_b = []\n",
    "    is_a = []\n",
    "    for i,note in enumerate(vals[:,1]):\n",
    "        if (len(note) > 0) & (vals[i,0] == vals[i-1,0]):\n",
    "            is_a.append(note[-1] == 'a')\n",
    "            is_b.append(note[-1] == 'b')\n",
    "        else:\n",
    "            is_a.append(False)\n",
    "            is_b.append(False)\n",
    "    print(np.mean(vals[is_a,2]), np.mean(vals[is_b,2]),np.mean(vals[np.where(vals[:,1] == ''), 2]))"
   ]
  },
  {
   "cell_type": "code",
   "execution_count": 47,
   "metadata": {},
   "outputs": [
    {
     "name": "stdout",
     "output_type": "stream",
     "text": [
      "a-block mean slewtime, b-block mean slew, greedy mean slewtime\n",
      "6.276311870029339 6.380589813036348 7.972263000943505\n",
      "6.477574044993482 6.768513693859035 8.021347118452907\n"
     ]
    }
   ],
   "source": [
    "# so it looks like the a-block means are 1.1s higher than before. Is it just the initial one though?\n",
    "# Chop \n",
    "print('a-block mean slewtime, b-block mean slew, greedy mean slewtime')\n",
    "for conn in conns:\n",
    "    q = 'select filter,note,slewtime from SummaryAllProps'\n",
    "    df = pd.read_sql(q, conn)\n",
    "    vals = df.values\n",
    "    is_b = []\n",
    "    is_a = []\n",
    "    for i,note in enumerate(vals[:,1]):\n",
    "        if (len(note) > 0) & (vals[i,0] == vals[i-1,0]):\n",
    "            if vals[i,1] == vals[i-1,1]:\n",
    "                is_a.append(note[-1] == 'a')\n",
    "                is_b.append(note[-1] == 'b')\n",
    "            else:\n",
    "                is_a.append(False)\n",
    "                is_b.append(False)\n",
    "        else:\n",
    "            is_a.append(False)\n",
    "            is_b.append(False)\n",
    "    print(np.mean(vals[is_a,2]), np.mean(vals[is_b,2]),np.mean(vals[np.where(vals[:,1] == ''), 2]))"
   ]
  },
  {
   "cell_type": "code",
   "execution_count": null,
   "metadata": {},
   "outputs": [],
   "source": [
    "# So yes, there is an issue that the slewtime of the initial a-block observation is increasing the mean slewtime of all a-block by around a second."
   ]
  },
  {
   "cell_type": "markdown",
   "metadata": {},
   "source": [
    "The issue could be\n",
    "\n",
    "* Need to add a detailer to reorder the traveling salesman so it slews to the closest part of the new block\n",
    "* Need to increase weight on the azimuth basis function\n",
    "* maybe I messed up the math on the basis function and it's slewing all over the place on accident"
   ]
  },
  {
   "cell_type": "code",
   "execution_count": null,
   "metadata": {},
   "outputs": [],
   "source": []
  }
 ],
 "metadata": {
  "kernelspec": {
   "display_name": "Python 3",
   "language": "python",
   "name": "python3"
  },
  "language_info": {
   "codemirror_mode": {
    "name": "ipython",
    "version": 3
   },
   "file_extension": ".py",
   "mimetype": "text/x-python",
   "name": "python",
   "nbconvert_exporter": "python",
   "pygments_lexer": "ipython3",
   "version": "3.6.2"
  }
 },
 "nbformat": 4,
 "nbformat_minor": 2
}
