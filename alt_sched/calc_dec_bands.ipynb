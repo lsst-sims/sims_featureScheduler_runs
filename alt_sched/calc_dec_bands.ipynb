{
 "cells": [
  {
   "cell_type": "code",
   "execution_count": 27,
   "metadata": {},
   "outputs": [],
   "source": [
    "import numpy as np\n",
    "import matplotlib.pylab as plt\n",
    "import healpy as hp\n",
    "from lsst.sims.featureScheduler.modelObservatory import Model_observatory\n",
    "from lsst.sims.featureScheduler.schedulers import Core_scheduler\n",
    "from lsst.sims.featureScheduler.utils import standard_goals, calc_norm_factor\n",
    "import lsst.sims.featureScheduler.basis_functions as bf\n",
    "from lsst.sims.featureScheduler.surveys import (generate_dd_surveys, Greedy_survey,\n",
    "                                                Blob_survey)\n",
    "%matplotlib inline\n",
    "from lsst.sims.utils import hpid2RaDec"
   ]
  },
  {
   "cell_type": "code",
   "execution_count": 3,
   "metadata": {},
   "outputs": [],
   "source": [
    "nside=32\n",
    "target_map = standard_goals(nside=nside)"
   ]
  },
  {
   "cell_type": "code",
   "execution_count": 8,
   "metadata": {},
   "outputs": [],
   "source": [
    "tm_summ = target_map['g']*0\n",
    "for tm in target_map:\n",
    "    tm_summ += target_map[tm]"
   ]
  },
  {
   "cell_type": "code",
   "execution_count": 9,
   "metadata": {},
   "outputs": [
    {
     "data": {
      "image/png": "[encoded data removed]",
      "text/plain": [
       "<matplotlib.figure.Figure at 0x131d266b00>"
      ]
     },
     "metadata": {},
     "output_type": "display_data"
    }
   ],
   "source": [
    "hp.mollview(tm_summ)"
   ]
  },
  {
   "cell_type": "code",
   "execution_count": 10,
   "metadata": {},
   "outputs": [],
   "source": [
    "# ok, this isnlt going to be perfect because of the unequal distribution above of dec=0, but let's try\n",
    "tm_a = np.cumsum(tm_summ)"
   ]
  },
  {
   "cell_type": "code",
   "execution_count": 19,
   "metadata": {},
   "outputs": [],
   "source": [
    "sections = 3\n",
    "sum_per_sec = np.max(tm_a)/sections\n",
    "sum_vals = np.arange(sections+1)*sum_per_sec"
   ]
  },
  {
   "cell_type": "code",
   "execution_count": 24,
   "metadata": {},
   "outputs": [],
   "source": [
    "hpids = []\n",
    "for val in sum_vals:\n",
    "    good = np.where(tm_a <= val)[0]\n",
    "    hpids.append( np.max(good))\n",
    "    "
   ]
  },
  {
   "cell_type": "code",
   "execution_count": 25,
   "metadata": {},
   "outputs": [
    {
     "data": {
      "text/plain": [
       "[2729, 7389, 9530, 12287]"
      ]
     },
     "execution_count": 25,
     "metadata": {},
     "output_type": "execute_result"
    }
   ],
   "source": [
    "hpids"
   ]
  },
  {
   "cell_type": "code",
   "execution_count": 28,
   "metadata": {},
   "outputs": [],
   "source": [
    "ra, dec = hpid2RaDec(nside, hpids)"
   ]
  },
  {
   "cell_type": "code",
   "execution_count": 29,
   "metadata": {},
   "outputs": [
    {
     "data": {
      "text/plain": [
       "array([ 34.22886633, -12.02469918, -32.7971683 , -88.53802884])"
      ]
     },
     "execution_count": 29,
     "metadata": {},
     "output_type": "execute_result"
    }
   ],
   "source": [
    "dec"
   ]
  },
  {
   "cell_type": "code",
   "execution_count": null,
   "metadata": {},
   "outputs": [],
   "source": []
  }
 ],
 "metadata": {
  "kernelspec": {
   "display_name": "Python 3",
   "language": "python",
   "name": "python3"
  },
  "language_info": {
   "codemirror_mode": {
    "name": "ipython",
    "version": 3
   },
   "file_extension": ".py",
   "mimetype": "text/x-python",
   "name": "python",
   "nbconvert_exporter": "python",
   "pygments_lexer": "ipython3",
   "version": "3.6.2"
  }
 },
 "nbformat": 4,
 "nbformat_minor": 2
}
